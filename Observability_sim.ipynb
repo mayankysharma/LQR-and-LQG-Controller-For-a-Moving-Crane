{
 "cells": [
  {
   "cell_type": "code",
   "execution_count": null,
   "metadata": {},
   "outputs": [],
   "source": [
    "%matplotlib inline\n",
    "import sympy\n",
    "import numpy as np\n",
    "import matplotlib.pyplot as plt\n",
    "import os\n",
    "import math\n",
    "from sympy import Matrix, MatrixSymbol, Symbol, symbols, cos, sin, BlockMatrix\n",
    "from scipy.linalg import solve_continuous_are\n",
    "from scipy.signal import place_poles, step, lti\n",
    "from scipy import signal\n",
    "from tqdm import tqdm\n",
    "import code.dynamics as dy\n",
    "from code.utils import plot_respone\n",
    "from code.controller import Controller \n",
    "import code.systems as Z\n",
    "from scipy.integrate import solve_ivp\n",
    "from functools import partial"
   ]
  },
  {
   "attachments": {},
   "cell_type": "markdown",
   "metadata": {},
   "source": [
    "## Declare the symbols"
   ]
  },
  {
   "cell_type": "code",
   "execution_count": null,
   "metadata": {},
   "outputs": [],
   "source": [
    "ctrl = Controller()\n",
    "x, theta1, theta2, u = (dy.x, dy.theta1, dy.theta2, dy.u)\n",
    "x_dot, theta1_dot, theta2_dot = (dy.x_dot, dy.theta1_dot, dy. theta2_dot)\n",
    "x_ddot, theta1_ddot, theta2_ddot = (dy.x_ddot, dy.theta1_ddot, dy. theta2_ddot)\n",
    "state = Matrix([x,x_dot, theta1, theta1_dot, theta2, theta2_dot])\n",
    "\n",
    "# variables\n",
    "m1, m2, M = (dy.m1, dy.m2, dy.M)\n",
    "l1, l2 = (dy.l1, dy.l2)\n",
    "g = dy.g\n",
    "\n",
    "variables = dy.variables"
   ]
  },
  {
   "cell_type": "code",
   "execution_count": null,
   "metadata": {},
   "outputs": [],
   "source": [
    "state"
   ]
  },
  {
   "cell_type": "code",
   "execution_count": null,
   "metadata": {},
   "outputs": [],
   "source": [
    "N = dy.N #number of tate\n",
    "R = Matrix([.003])\n",
    "Q = sympy.eye(N,N)*150\n",
    "\n",
    "A_sub = dy.A.subs(variables)\n",
    "B_sub = dy.B.subs(variables)\n",
    "A_arr = np.array(A_sub,dtype=np.float32)\n",
    "B_arr = np.array(B_sub,dtype=np.float32)\n",
    "Q_arr = np.array(Q,dtype=np.float32)\n",
    "R_arr = np.array(R,dtype=np.float32)"
   ]
  },
  {
   "cell_type": "code",
   "execution_count": null,
   "metadata": {},
   "outputs": [],
   "source": [
    "# Lqr Control\n",
    "K = ctrl.lqr(A_arr,B_arr,Q_arr,R_arr)\n",
    "K_arr = np.array(K,dtype=np.float32)"
   ]
  },
  {
   "attachments": {},
   "cell_type": "markdown",
   "metadata": {},
   "source": [
    "## Observability of state space\n",
    "For 4 different output vector:\n",
    "* $x(t)$ : Observable\n",
    "* $\\theta_1$ and $\\theta_2$ : Not Observable\n",
    "* $x(t)$ and $\\theta_2$ : Observable\n",
    "* $x(t)$, $\\theta_1$ and $\\theta_2$ : Observable"
   ]
  },
  {
   "cell_type": "code",
   "execution_count": null,
   "metadata": {},
   "outputs": [],
   "source": [
    "C1 = (Matrix([[1,0,0,0,0,0]]),x)\n",
    "C2 = (Matrix([[0,0,1,0,0,0],[0,0,0,0,1,0]]),(theta1,theta2))\n",
    "C3 = (Matrix([[1,0,0,0,0,0],[0,0,0,0,1,0]]),(x,theta2))\n",
    "C4 = (Matrix([[1,0,0,0,0,0],[0,0,1,0,0,0],[0,0,0,0,1,0]]),(x,theta1,theta2))\n",
    "Cs_temp = [C1,C2,C3,C4]\n",
    "Cs = []\n",
    "for c,st in Cs_temp:\n",
    "    \n",
    "    observer =  Matrix(BlockMatrix([[c*dy.A**i] for i in range(N)]))\n",
    "    rk = observer.rank()\n",
    "    if rk==N:\n",
    "        # sympy.pprint(st)\n",
    "        print(f\"{st} is observable\")\n",
    "        Cs.append((c,st))\n",
    "    else:\n",
    "        print(f\"{st} is not observable\")"
   ]
  },
  {
   "attachments": {},
   "cell_type": "markdown",
   "metadata": {},
   "source": [
    "## Luenberger Observer\n",
    "tate pace:\n",
    "$$\n",
    "\\dot X_e(t) = (A-LC)X_e(t) + B_DU_D(t)\n",
    "$$\n",
    "For an assumed set of poles (eigenvalues) of $A-LC$ which are on the negative half-plane, the system is stable i.e \n",
    "$$\n",
    "\\lambda = [-1,-1.5,-2,-2.5,-3,-3.5]\n",
    "$$  \n"
   ]
  },
  {
   "cell_type": "code",
   "execution_count": null,
   "metadata": {},
   "outputs": [],
   "source": [
    "# Find the L for above given output vector\n",
    "# Fixing eigen values for the A-L, we can reversely find L\n",
    "Ls = []\n",
    "eig = np.array(Matrix([-1,-1.5,-2, -2.5, -3,-3.5]),dtype=np.float32).reshape(-1,)\n",
    "for c, st in Cs:\n",
    "    C_arr = np.array(c.T,dtype=np.float32)\n",
    "    out = place_poles(A_arr,C_arr,eig)\n",
    "    O = np.round_(out.gain_matrix,3)\n",
    "    L = Matrix(O).T\n",
    "    Ls.append(L)\n",
    "    # print(sympy.latex(L))"
   ]
  },
  {
   "attachments": {},
   "cell_type": "markdown",
   "metadata": {},
   "source": [
    "### Non Linear Response of Luenberger Oberver"
   ]
  },
  {
   "cell_type": "code",
   "execution_count": null,
   "metadata": {},
   "outputs": [],
   "source": [
    "## Assuming Estimation Error\n",
    "Est_error_state = Matrix([0,0,0,0,0,0])\n",
    "\n",
    "## Initializing Input\n",
    "X_states = {x:0,x_dot:0, theta1:30, theta1_dot:0, theta2:40, theta2_dot:0, u:0}"
   ]
  },
  {
   "cell_type": "code",
   "execution_count": 10,
   "metadata": {},
   "outputs": [
    {
     "name": "stderr",
     "output_type": "stream",
     "text": [
      "100%|██████████| 50000/50000 [02:22<00:00, 350.30it/s]\n",
      "100%|██████████| 50000/50000 [02:22<00:00, 350.72it/s]\n",
      "100%|██████████| 50000/50000 [02:34<00:00, 323.87it/s]\n"
     ]
    }
   ],
   "source": [
    "## Running Luenber Observer and Get Response for 3 observable output vectors\n",
    "all_step_output = []\n",
    "all_output_arr_control_observe = []\n",
    "all_output_arr_control_observe_non_linear = []\n",
    "all_sys = []\n",
    "## Auming the initial etimate error to be 100 for all states\n",
    "states = Matrix(BlockMatrix([[dy.state],[Est_error_state]])) # state with state estimates\n",
    "for c, l in zip(Cs,Ls):\n",
    "    output_arr_control_observe, all_states , time_steps, sys = Z.state_space_observer(A_sub,B_sub,c[0],l,K,X_states,states,total_time=500)\n",
    "    all_output_arr_control_observe.append(output_arr_control_observe)\n",
    "    t, Y = signal.step2(sys,T=time_steps)\n",
    "    all_step_output.append(Y)\n",
    "    all_sys.append(sys)"
   ]
  },
  {
   "attachments": {},
   "cell_type": "markdown",
   "metadata": {},
   "source": [
    "### Luenberger Observer Response\n",
    "For $x(t)$ state"
   ]
  },
  {
   "cell_type": "code",
   "execution_count": null,
   "metadata": {},
   "outputs": [],
   "source": [
    "## Run if no Estimate Error\n",
    "# plot_respone(all_output_arr_control_observe[0],time_steps,N,Cs[0][1],plot_title=f\"${Cs[0][1]}$ Luenberger Observer Response\",Plot_filename=\"x_Controller+OberverResponse\", save=True)"
   ]
  },
  {
   "cell_type": "code",
   "execution_count": null,
   "metadata": {},
   "outputs": [],
   "source": [
    "## Run if there is Estimate Error\n",
    "# plot_respone(all_output_arr_control_observe[0],time_steps,N,Cs[0][1],plot_title=f\"${Cs[0][1]}$ Luenberger Oberver Response With Estimation Error\",Plot_filename=\"x_Controller+OberverResponse_with_estimation_err\", save=True)"
   ]
  },
  {
   "attachments": {},
   "cell_type": "markdown",
   "metadata": {},
   "source": [
    "### Step Response of Luenberger Observer\n",
    "For $x(t)$ state"
   ]
  },
  {
   "cell_type": "code",
   "execution_count": null,
   "metadata": {},
   "outputs": [],
   "source": [
    "plot_respone(all_step_output[0],time_steps,N,Cs[0][1], plot_title=f\"${Cs[0][1]}$ Non Linear Step Response\", Plot_filename =\"x_Controller+OberverNonLinearStepResponse\",save=True)"
   ]
  },
  {
   "cell_type": "code",
   "execution_count": null,
   "metadata": {},
   "outputs": [],
   "source": [
    "# Non linear response for Luenberger response\n",
    "i = 0 # 0 : (x(t)) ,1 : (x(t),theta2) or 2 : (x(t),theta1,theta2). \n",
    "L_arr = np.array(Ls[i],dtype=np.float32)\n",
    "C_arr = np.array(Cs[i][0],dtype=np.float32)\n",
    "A_l = all_sys[0][0]\n",
    "ode =  ctrl.ode_for_observer(A_l)\n",
    "\n",
    "Y = np.array([0,0,30,0,40,0,0,0,0,0,0,0]).reshape(-1,)\n",
    "T = np.linspace(0,500,50000)\n",
    "# ode(T,Y)\n",
    "ol = solve_ivp(ode,(0,500),Y,t_eval=T)\n",
    "time_steps = np.linspace(0,500,ol.y.shape[1])\n",
    "Y_ARR = ol.y.T[:,:i+1] #np.vstack([ol.y.T[:,0],ol.y.T[:,2],ol.y.T[:,4]])\n",
    "print(Y_ARR.shape)\n",
    "plot_respone(Y_ARR,time_steps,N,Cs[i][1],plot_title=f\"${Cs[i][1]}$ Non Linear Observer Response\",Plot_filename=\"x_Controller+OberverNonLinearResponse\", save=True)"
   ]
  },
  {
   "attachments": {},
   "cell_type": "markdown",
   "metadata": {},
   "source": [
    "## LQG Controller\n",
    "\n",
    "Solves the continuous algebraic Riccati equation, or CARE, defined as \n",
    "$$AP + PA^T + B_D\\Sigma_DB_D^T-PC^T\\Sigma_V^{-1}CP = 0$$\n",
    "directly using a Schur decomposition method.\n",
    "\n",
    "Then compute $ L = PC^T\\Sigma_V^{-1}$ the optimal Obervability Gain Matri solution to LQG Control problem.\n",
    "So,\n",
    "* Process Noise Covariance : $\\Sigma_D =I_{6x6}$ \n",
    "* Measurement Noise Covariance : $\\Sigma_V= 1$"
   ]
  },
  {
   "cell_type": "code",
   "execution_count": null,
   "metadata": {},
   "outputs": [],
   "source": [
    "# zero mean covariance matrix for state and for output x vector\n",
    "BdCov_ubBd = np.identity(N) # Process noise covariance\n",
    "cov_vd = np.array([1]).reshape(1,1) # measurement noise covariance"
   ]
  },
  {
   "attachments": {},
   "cell_type": "markdown",
   "metadata": {},
   "source": [
    "### Applying LQG for $x(t)$ state for Linear System"
   ]
  },
  {
   "cell_type": "code",
   "execution_count": null,
   "metadata": {},
   "outputs": [],
   "source": [
    "\n",
    "## Auming the initial etimate error to be 100 for all states\n",
    "states = Matrix(BlockMatrix([[dy.state],[Est_error_state]])) # state with state estimates\n",
    "# states = Matrix(BlockMatrix([[dy.state],[Matrix([0,0,0,0,0,0])]])) # state with state estimates\n",
    "for c in Cs:\n",
    "    C_arr = np.array(c[0],dtype=np.float32)\n",
    "    optimal_L = ctrl.lqg(A_arr.T,C_arr.T,BdCov_ubBd,cov_vd)\n",
    "    output_arr_control_observe, all_states, time_steps, sys = Z.state_space_observer(A_sub,B_sub,c[0],optimal_L,K,X_states,states,total_time=500)\n",
    "    break"
   ]
  },
  {
   "cell_type": "code",
   "execution_count": null,
   "metadata": {},
   "outputs": [],
   "source": [
    "## PLotting Linear Response\n",
    "plot_respone(all_states[:,0],time_steps,N,Cs[0][1],plot_title=f\"${Cs[0][1]}$ LQG Controller Linear Response with Estimation Error\",Plot_filename=\"x_LQG_Controller+OberverLinearResponse_with_etimation_err\", save=False)"
   ]
  },
  {
   "attachments": {},
   "cell_type": "markdown",
   "metadata": {},
   "source": [
    "### Applying LQG for $x(t)$ state for Non Linear System"
   ]
  },
  {
   "cell_type": "code",
   "execution_count": null,
   "metadata": {},
   "outputs": [],
   "source": [
    "A_lqg = sys[0]\n",
    "# Non linear plotting\n",
    "ode = ctrl.ode_for_observer(A_lqg)\n",
    "Y = np.array([0,0,30,0,40,0,0,0,0,0,0,0]).reshape(-1,)\n",
    "# Y = np.array([0,0,30,0,40,0,0,0,0,0,0,0]).reshape(-1,)\n",
    "T = np.linspace(0,500,50000)\n",
    "# ode(T,Y)\n",
    "ol = solve_ivp(ode,(0,500),Y,t_eval=T)\n",
    "time_steps = np.linspace(0,500,ol.y.shape[1])\n",
    "plot_respone(ol.y.T[:,0],time_steps,N,Cs[0][1],plot_title=f\"${Cs[0][1]}$ LQG Controller Non Linear Response\",Plot_filename=\"x_Non Linear LQG Controller Response\", save=True)\n",
    "# plot_respone(ol.y.T,time_steps,N,state,plot_title=\"Non Linear LQG  Controller Response\", Plot_filename=\"Non Linear LQG Controller Response\",save=False)"
   ]
  },
  {
   "cell_type": "code",
   "execution_count": null,
   "metadata": {},
   "outputs": [],
   "source": []
  }
 ],
 "metadata": {
  "kernelspec": {
   "display_name": "Python 3",
   "language": "python",
   "name": "python3"
  },
  "language_info": {
   "codemirror_mode": {
    "name": "ipython",
    "version": 3
   },
   "file_extension": ".py",
   "mimetype": "text/x-python",
   "name": "python",
   "nbconvert_exporter": "python",
   "pygments_lexer": "ipython3",
   "version": "3.8.10"
  },
  "orig_nbformat": 4,
  "vscode": {
   "interpreter": {
    "hash": "916dbcbb3f70747c44a77c7bcd40155683ae19c65e1c03b4aa3499c5328201f1"
   }
  }
 },
 "nbformat": 4,
 "nbformat_minor": 2
}
