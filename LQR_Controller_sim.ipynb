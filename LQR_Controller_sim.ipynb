{
 "cells": [
  {
   "attachments": {},
   "cell_type": "markdown",
   "metadata": {},
   "source": [
    "## Multi Pendulum Cart Problem"
   ]
  },
  {
   "cell_type": "code",
   "execution_count": 8,
   "metadata": {},
   "outputs": [],
   "source": [
    "%matplotlib inline\n",
    "import sympy\n",
    "import numpy as np\n",
    "import matplotlib.pyplot as plt\n",
    "import os\n",
    "import math\n",
    "from sympy import Matrix, MatrixSymbol, Symbol, symbols, cos, sin, BlockMatrix\n",
    "from scipy.linalg import solve_continuous_are\n",
    "from scipy.signal import place_poles, step, lti\n",
    "from scipy import signal\n",
    "from tqdm import tqdm\n",
    "import code.dynamics as dy\n",
    "from code.utils import plot_respone\n",
    "from code.controller import Controller \n",
    "import code.systems as Z\n",
    "from scipy.integrate import solve_ivp"
   ]
  },
  {
   "attachments": {},
   "cell_type": "markdown",
   "metadata": {},
   "source": [
    "## Declare the symbols"
   ]
  },
  {
   "cell_type": "code",
   "execution_count": 9,
   "metadata": {},
   "outputs": [],
   "source": [
    "ctrl = Controller()\n",
    "x, theta1, theta2, u = (dy.x, dy.theta1, dy.theta2, dy.u)\n",
    "x_dot, theta1_dot, theta2_dot = (dy.x_dot, dy.theta1_dot, dy. theta2_dot)\n",
    "x_ddot, theta1_ddot, theta2_ddot = (dy.x_ddot, dy.theta1_ddot, dy. theta2_ddot)\n",
    "state = Matrix([x,x_dot, theta1, theta1_dot, theta2, theta2_dot])\n",
    "\n",
    "# variables\n",
    "m1, m2, M = (dy.m1, dy.m2, dy.M)\n",
    "l1, l2 = (dy.l1, dy.l2)\n",
    "g = dy.g\n",
    "\n",
    "variables = dy.variables"
   ]
  },
  {
   "cell_type": "code",
   "execution_count": 10,
   "metadata": {},
   "outputs": [
    {
     "data": {
      "text/latex": [
       "$\\displaystyle \\left[\\begin{matrix}x\\\\\\dot{x}\\\\\\theta_{1}\\\\\\dot{\\theta_1}\\\\\\theta_{2}\\\\\\dot{\\theta_2}\\end{matrix}\\right]$"
      ],
      "text/plain": [
       "Matrix([\n",
       "[             x],\n",
       "[       \\dot{x}],\n",
       "[      \\theta_1],\n",
       "[\\dot{\\theta_1}],\n",
       "[      \\theta_2],\n",
       "[\\dot{\\theta_2}]])"
      ]
     },
     "execution_count": 10,
     "metadata": {},
     "output_type": "execute_result"
    }
   ],
   "source": [
    "state"
   ]
  },
  {
   "cell_type": "code",
   "execution_count": 11,
   "metadata": {},
   "outputs": [],
   "source": [
    "N = dy.N #number of tate\n",
    "R = Matrix([.003])\n",
    "Q = sympy.eye(N,N)*150\n",
    "\n",
    "A_sub = dy.A.subs(variables)\n",
    "B_sub = dy.B.subs(variables)\n",
    "A_arr = np.array(A_sub,dtype=np.float32)\n",
    "B_arr = np.array(B_sub,dtype=np.float32)\n",
    "Q_arr = np.array(Q,dtype=np.float32)\n",
    "R_arr = np.array(R,dtype=np.float32)"
   ]
  },
  {
   "attachments": {},
   "cell_type": "markdown",
   "metadata": {},
   "source": [
    "## LQR \n",
    "Solves the continuous algebraic Riccati equation, or CARE, defined as \n",
    "$$(A^TP + PA - PBR^{-1}B^TP+Q=0)$$\n",
    "directly using a Schur decomposition method.\n",
    "\n",
    "Then compute $K = -R^{-1}B^TP$ the optimal solution to LQR Control problem"
   ]
  },
  {
   "cell_type": "code",
   "execution_count": 12,
   "metadata": {},
   "outputs": [],
   "source": [
    "K = ctrl.lqr(A_arr,B_arr,Q_arr,R_arr)"
   ]
  },
  {
   "attachments": {},
   "cell_type": "markdown",
   "metadata": {},
   "source": [
    "### Defining State Space equation\n",
    "$$\n",
    "\\dot x  = Ax+BKu\n",
    "$$\n",
    "$$\n",
    "Y = Cx\n",
    "$$\n",
    "Calculating next state, for given $\\delta t$ (dt) time interval."
   ]
  },
  {
   "attachments": {},
   "cell_type": "markdown",
   "metadata": {},
   "source": [
    "## Running LQR Controller\n",
    "* Running for total time = $1000$ sec, and $dt = 0.01$ sec. \n",
    "* Initial Condition is defined as \n",
    "$$ X(0) = [0,0,30,0,40,0]$$"
   ]
  },
  {
   "attachments": {},
   "cell_type": "markdown",
   "metadata": {},
   "source": [
    "### Running state space system and plotting without LQR controller"
   ]
  },
  {
   "cell_type": "markdown",
   "metadata": {},
   "source": [
    "plot_respone(output_arr_wo_control,time_steps,N, plot_title=\"Response Without Controller\")"
   ]
  },
  {
   "attachments": {},
   "cell_type": "markdown",
   "metadata": {},
   "source": [
    "### Running state space system and plotting with LQR controller\n"
   ]
  },
  {
   "cell_type": "code",
   "execution_count": 13,
   "metadata": {},
   "outputs": [
    {
     "name": "stderr",
     "output_type": "stream",
     "text": [
      "100%|██████████| 50000/50000 [02:02<00:00, 409.37it/s]\n"
     ]
    }
   ],
   "source": [
    "# Running state space with LQR controller\n",
    "X_states = {x:0,x_dot:0, theta1:30, theta1_dot:0, theta2:40, theta2_dot:0, u:0}\n",
    "output_arr, time_steps = Z.state_space(A_sub,B_sub,dy.C,K,X_states,state,True)"
   ]
  },
  {
   "cell_type": "code",
   "execution_count": null,
   "metadata": {},
   "outputs": [],
   "source": [
    "plot_respone(output_arr,time_steps,N,state,save=False)"
   ]
  },
  {
   "attachments": {},
   "cell_type": "markdown",
   "metadata": {},
   "source": [
    "### Non Linear system Response"
   ]
  },
  {
   "cell_type": "code",
   "execution_count": null,
   "metadata": {},
   "outputs": [],
   "source": [
    "# Non linear plotting\n",
    "Y = np.array([0,0,30,0,40,0]).reshape(-1,)\n",
    "T = np.linspace(0,500,50000)\n",
    "# ode(T,Y)\n",
    "ol = solve_ivp(ctrl.ode,(0,500),Y,t_eval=T)\n",
    "time_steps = np.linspace(0,500,ol.y.shape[1])\n",
    "plot_respone(ol.y.T,time_steps,N,state,plot_title=\"Non Linear Controller Response\", Plot_filename=\"Non Linear Controller Response\",save=False)"
   ]
  },
  {
   "attachments": {},
   "cell_type": "markdown",
   "metadata": {},
   "source": [
    "## Printing $P$"
   ]
  },
  {
   "cell_type": "code",
   "execution_count": null,
   "metadata": {},
   "outputs": [],
   "source": [
    "\n",
    "P_round = np.round(P,2)\n",
    "P_sub = Matrix(P_round)\n",
    "print(sympy.latex(K))"
   ]
  },
  {
   "cell_type": "code",
   "execution_count": null,
   "metadata": {},
   "outputs": [],
   "source": [
    "print(sympy.latex(P_sub.det()))"
   ]
  },
  {
   "cell_type": "code",
   "execution_count": null,
   "metadata": {},
   "outputs": [],
   "source": [
    "print(P)"
   ]
  },
  {
   "cell_type": "code",
   "execution_count": null,
   "metadata": {},
   "outputs": [],
   "source": [
    "EIG = np.linalg.eigvals(A_arr+B_arr@K_arr)\n",
    "EIG = np.round(EIG,3)\n",
    "EIG_sy = Matrix(EIG)"
   ]
  }
 ],
 "metadata": {
  "kernelspec": {
   "display_name": "Python 3",
   "language": "python",
   "name": "python3"
  },
  "language_info": {
   "codemirror_mode": {
    "name": "ipython",
    "version": 3
   },
   "file_extension": ".py",
   "mimetype": "text/x-python",
   "name": "python",
   "nbconvert_exporter": "python",
   "pygments_lexer": "ipython3",
   "version": "3.8.10"
  },
  "orig_nbformat": 4,
  "vscode": {
   "interpreter": {
    "hash": "916dbcbb3f70747c44a77c7bcd40155683ae19c65e1c03b4aa3499c5328201f1"
   }
  }
 },
 "nbformat": 4,
 "nbformat_minor": 2
}
